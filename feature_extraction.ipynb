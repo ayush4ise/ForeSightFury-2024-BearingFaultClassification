{
 "cells": [
  {
   "cell_type": "code",
   "execution_count": 5,
   "metadata": {},
   "outputs": [],
   "source": [
    "import numpy as np\n",
    "import pandas as pd\n",
    "\n",
    "from scipy.io import loadmat\n",
    "from scipy.signal import welch\n",
    "from scipy.stats import kurtosis, skew"
   ]
  },
  {
   "cell_type": "code",
   "execution_count": 6,
   "metadata": {},
   "outputs": [],
   "source": [
    "def extract_features(signal, fs):\n",
    "    # Time-domain features\n",
    "    mean_value = np.mean(signal)\n",
    "    std_dev = np.std(signal)\n",
    "    skewness = skew(signal)\n",
    "    kurt = kurtosis(signal)\n",
    "\n",
    "    # Frequency-domain features using FFT\n",
    "    fft_values = np.fft.fft(signal)\n",
    "    fft_freqs = np.fft.fftfreq(len(signal), 1/fs)\n",
    "    dominant_frequency = np.abs(fft_freqs[np.argmax(np.abs(fft_values))])\n",
    "\n",
    "    # Calculate Power Spectral Density (PSD)\n",
    "    f, psd = welch(signal, fs=fs, nperseg=len(signal)//2)\n",
    "    mean_psd = np.mean(psd)\n",
    "\n",
    "    # Calculate second derivative\n",
    "    # time_axis = np.arange(len(signal)) / fs\n",
    "    # second_derivative = np.gradient(np.gradient(signal, time_axis), time_axis)\n",
    "\n",
    "    return mean_value, std_dev, skewness, kurt, dominant_frequency, mean_psd# , second_derivative"
   ]
  },
  {
   "cell_type": "code",
   "execution_count": 7,
   "metadata": {},
   "outputs": [],
   "source": [
    "# Turn extracted features into a dataframe\n",
    "def feature_df(file_path, fs, hp, target):\n",
    "    # Load the data\n",
    "    data = loadmat(file_path)\n",
    "    vibration_signals = [x[0] for x in data[f'X{file_path[-7:-4]}_DE_time']]\n",
    "\n",
    "    vibration_data = [vibration_signals[i:i+fs] for i in range(0, len(vibration_signals), fs)]\n",
    "    features_list = [extract_features(signal, fs) for signal in vibration_data]\n",
    "\n",
    "    # Create a dataframe with the features\n",
    "    features_df = pd.DataFrame(features_list, columns=['mean_value', 'std_dev', 'skewness', 'kurt', 'dominant_frequency', 'mean_psd'])\n",
    "\n",
    "    # Add the hp and target column\n",
    "    features_df['hp'] = hp\n",
    "    features_df['target'] = target\n",
    "    try:\n",
    "        features_df['defect_type'] = float(file_path[7:12])\n",
    "    except:\n",
    "        features_df['defect_type'] = 0\n",
    "\n",
    "    return features_df"
   ]
  },
  {
   "cell_type": "code",
   "execution_count": 8,
   "metadata": {},
   "outputs": [],
   "source": [
    "# add all the data to a dataframe\n",
    "\n",
    "# 0.007 inch defect\n",
    "ball7_0hp = feature_df('./data/0.007 inch_0hp/Ball/118.mat', 12000, 0, 'ball')\n",
    "ball7_1hp = feature_df('./data/0.007 inch_1hp/Ball/119.mat', 12000, 1, 'ball')\n",
    "inner7_0hp = feature_df('./data/0.007 inch_0hp/Inner/105.mat', 12000, 0, 'inner')\n",
    "inner7_1hp = feature_df('./data/0.007 inch_1hp/Inner/106.mat', 12000, 1, 'inner')\n",
    "outer7_0hp = feature_df('./data/0.007 inch_0hp/Outer/130.mat', 12000, 0, 'outer')\n",
    "outer7_1hp = feature_df('./data/0.007 inch_1hp/Outer/130.mat', 12000, 1, 'outer')\n",
    "\n",
    "# 0.014 inch defect\n",
    "ball14_0hp = feature_df('./data/0.014 inch_0hp/Ball/185.mat', 12000, 0, 'ball')\n",
    "ball14_1hp = feature_df('./data/0.014 inch_1hp/Ball/186.mat', 12000, 1, 'ball')\n",
    "inner14_0hp = feature_df('./data/0.014 inch_0hp/Inner/169.mat', 12000, 0, 'inner')\n",
    "inner14_1hp = feature_df('./data/0.014 inch_1hp/Inner/170.mat', 12000, 1, 'inner')\n",
    "outer14_0hp = feature_df('./data/0.014 inch_0hp/Outer/197.mat', 12000, 0, 'outer')\n",
    "outer14_1hp = feature_df('./data/0.014 inch_1hp/Outer/198.mat', 12000, 1, 'outer')\n",
    "\n",
    "# 0.021 inch defect\n",
    "ball21_0hp = feature_df('./data/0.021 inch_0hp/Ball/222.mat', 12000, 0, 'ball')\n",
    "ball21_1hp = feature_df('./data/0.021 inch_1hp/Ball/223.mat', 12000, 1, 'ball')\n",
    "inner21_0hp = feature_df('./data/0.021 inch_0hp/Inner/209.mat', 12000, 0, 'inner')\n",
    "inner21_1hp = feature_df('./data/0.021 inch_1hp/Inner/210.mat', 12000, 1, 'inner')\n",
    "outer21_0hp = feature_df('./data/0.021 inch_0hp/Outer/234.mat', 12000, 0, 'outer')\n",
    "outer21_1hp = feature_df('./data/0.021 inch_1hp/Outer/235.mat', 12000, 1, 'outer')\n",
    "\n",
    "# normal data\n",
    "normal_0hp = feature_df('./data/Normal/Normal_0_097.mat', 12000, 0, 'normal')\n",
    "normal_1hp = feature_df('./data/Normal/Normal_1_098.mat', 12000, 1, 'normal')\n",
    "\n",
    "# combine all the dataframes\n",
    "df = pd.concat([ball7_0hp, ball7_1hp, inner7_0hp, inner7_1hp, outer7_0hp, outer7_1hp,\n",
    "                ball14_0hp, ball14_1hp, inner14_0hp, inner14_1hp, outer14_0hp, outer14_1hp,\n",
    "                ball21_0hp, ball21_1hp, inner21_0hp, inner21_1hp, outer21_0hp, outer21_1hp,\n",
    "                normal_0hp, normal_1hp])"
   ]
  },
  {
   "cell_type": "code",
   "execution_count": 9,
   "metadata": {},
   "outputs": [],
   "source": [
    "df.to_csv('mix_features.csv', index=False)"
   ]
  }
 ],
 "metadata": {
  "kernelspec": {
   "display_name": "Python 3",
   "language": "python",
   "name": "python3"
  },
  "language_info": {
   "codemirror_mode": {
    "name": "ipython",
    "version": 3
   },
   "file_extension": ".py",
   "mimetype": "text/x-python",
   "name": "python",
   "nbconvert_exporter": "python",
   "pygments_lexer": "ipython3",
   "version": "3.11.0"
  }
 },
 "nbformat": 4,
 "nbformat_minor": 2
}
